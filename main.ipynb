{
 "cells": [
  {
   "cell_type": "code",
   "execution_count": 1,
   "metadata": {},
   "outputs": [
    {
     "name": "stdout",
     "output_type": "stream",
     "text": [
      "Spielende! Der Spielablauf befindet sich in der Datei wiederholung.html\n"
     ]
    }
   ],
   "source": [
    "from kaggle_environments import make, evaluate\n",
    "\n",
    "'''Trainingsplatz zum testen der programmierten Bots.'''\n",
    "\n",
    "def Testspiel(submission, gegner = \"random\"):\n",
    "\n",
    "    # Erstellen des Spieles und Angabe der spielenden Submissions\n",
    "    env = make(\"halite\", debug=True)\n",
    "    env.run([submission, gegner, gegner, gegner])\n",
    "\n",
    "    # Rendern des Spielablaufes und Ausgabe als html-Datei\n",
    "    out = env.render(mode=\"html\")\n",
    "    f = open('wiederholung.html','w')\n",
    "    f.write(out)\n",
    "    f.close\n",
    "    print(\"Spielende! Der Spielablauf befindet sich in der Datei wiederholung.html\")\n",
    "\n",
    "\n",
    "# Lade den Agent aus der Datei\n",
    "agent = \"submission.py\"\n",
    "\n",
    "# Spielen des Testspiels gegen drei \"random\" Agents\n",
    "# Es kann, wenn gewünscht, der Dateiname eines anderen gegnerischen Agenten übergeben werden (z.B. \"idleBot.py\")\n",
    "Testspiel(agent)"
   ]
  }
 ],
 "metadata": {
  "interpreter": {
   "hash": "6a3cdcc4d8b8306c1efa2d3c2ef27522f6fd43f3632868dba058d0fa99201247"
  },
  "kernelspec": {
   "display_name": "Python 3.9.12 ('halite-0Bd4onDN-py3.9')",
   "language": "python",
   "name": "python3"
  },
  "language_info": {
   "codemirror_mode": {
    "name": "ipython",
    "version": 3
   },
   "file_extension": ".py",
   "mimetype": "text/x-python",
   "name": "python",
   "nbconvert_exporter": "python",
   "pygments_lexer": "ipython3",
   "version": "3.9.12"
  },
  "orig_nbformat": 4
 },
 "nbformat": 4,
 "nbformat_minor": 2
}
