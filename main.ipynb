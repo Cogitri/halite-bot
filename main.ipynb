{
 "cells": [
  {
   "cell_type": "code",
   "execution_count": 1,
   "metadata": {},
   "outputs": [
    {
     "name": "stdout",
     "output_type": "stream",
     "text": [
      "Spielende! Der Spielablauf befindet sich in der Datei wiederholung.html\n"
     ]
    }
   ],
   "source": [
    "from kaggle_environments import make, evaluate\n",
    "\n",
    "'''Trainingsplatz zum testen der programmierten Bots.'''\n",
    "\n",
    "def Testspiel(submission, gegner = \"random\"):\n",
    "\n",
    "    # Erstellen des Spieles und Angabe der spielenden Submissions\n",
    "    env = make(\"halite\", debug=True)\n",
    "    env.run([submission, gegner, gegner, gegner])\n",
    "\n",
    "    # Rendern des Spielablaufes und Ausgabe als html-Datei\n",
    "    out = env.render(mode=\"html\")\n",
    "    f = open('wiederholung.html','w')\n",
    "    f.write(out)\n",
    "    f.close\n",
    "    print(\"Spielende! Der Spielablauf befindet sich in der Datei wiederholung.html\")\n",
    "\n",
    "\n",
    "# Lade den Agent aus der Datei\n",
    "agent = \"submission.py\"\n",
    "\n",
    "# Spielen des Testspiels gegen drei \"random\" Agents\n",
    "# Es kann, wenn gewünscht, der Dateiname eines anderen gegnerischen Agenten übergeben werden (z.B. \"idleBot.py\")\n",
    "Testspiel(agent)"
   ]
  }
 ],
 "metadata": {
  "interpreter": {
   "hash": "d73fae791b610053d972d5c72d46df7a6cabfb42677860e0d10a3885da72116b"
  },
  "kernelspec": {
   "display_name": "Python 3.10.4 ('.venv': poetry)",
   "language": "python",
   "name": "python3"
  },
  "language_info": {
   "codemirror_mode": {
    "name": "ipython",
    "version": 3
   },
   "file_extension": ".py",
   "mimetype": "text/x-python",
   "name": "python",
   "nbconvert_exporter": "python",
   "pygments_lexer": "ipython3",
   "version": "3.10.4"
  },
  "orig_nbformat": 4
 },
 "nbformat": 4,
 "nbformat_minor": 2
}
